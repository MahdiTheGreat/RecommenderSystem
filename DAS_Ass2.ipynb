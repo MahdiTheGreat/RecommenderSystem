{
  "nbformat": 4,
  "nbformat_minor": 0,
  "metadata": {
    "colab": {
      "provenance": [],
      "include_colab_link": true
    },
    "kernelspec": {
      "name": "python3",
      "display_name": "Python 3"
    },
    "language_info": {
      "name": "python"
    }
  },
  "cells": [
    {
      "cell_type": "markdown",
      "metadata": {
        "id": "view-in-github",
        "colab_type": "text"
      },
      "source": [
        "<a href=\"https://colab.research.google.com/github/MahdiTheGreat/RecommenderSystem/blob/main/DAS_Ass2.ipynb\" target=\"_parent\"><img src=\"https://colab.research.google.com/assets/colab-badge.svg\" alt=\"Open In Colab\"/></a>"
      ]
    },
    {
      "cell_type": "code",
      "source": [
        "!git clone https://github.com/MahdiTheGreat/RecommenderSystem.git\n",
        "%cd RecommenderSystem\n",
        "%ls"
      ],
      "metadata": {
        "colab": {
          "base_uri": "https://localhost:8080/"
        },
        "id": "2OaXiRcnfrW3",
        "outputId": "9c08dfb1-19d6-4df1-be06-e76be6e911ab"
      },
      "execution_count": 1,
      "outputs": [
        {
          "output_type": "stream",
          "name": "stdout",
          "text": [
            "Cloning into 'RecommenderSystem'...\n",
            "remote: Enumerating objects: 16, done.\u001b[K\n",
            "remote: Counting objects: 100% (16/16), done.\u001b[K\n",
            "remote: Compressing objects: 100% (15/15), done.\u001b[K\n",
            "remote: Total 16 (delta 6), reused 0 (delta 0), pack-reused 0 (from 0)\u001b[K\n",
            "Receiving objects: 100% (16/16), 147.54 KiB | 1.97 MiB/s, done.\n",
            "Resolving deltas: 100% (6/6), done.\n",
            "/content/RecommenderSystem\n",
            "DAS_Ass2.ipynb  movie_reviews.zip  README.md\n"
          ]
        }
      ]
    },
    {
      "cell_type": "code",
      "source": [
        "!unzip \"movie_reviews.zip\" -d \"DAS_Ass2\"\n",
        "%ls"
      ],
      "metadata": {
        "colab": {
          "base_uri": "https://localhost:8080/"
        },
        "id": "6Htd1DFkf8qy",
        "outputId": "dfaaf824-03b1-490b-9904-551f0b11e5a3"
      },
      "execution_count": 2,
      "outputs": [
        {
          "output_type": "stream",
          "name": "stdout",
          "text": [
            "Archive:  movie_reviews.zip\n",
            "  inflating: DAS_Ass2/movie_genres.csv  \n",
            "  inflating: DAS_Ass2/user_reviews.csv  \n",
            "\u001b[0m\u001b[01;34mDAS_Ass2\u001b[0m/  DAS_Ass2.ipynb  movie_reviews.zip  README.md\n"
          ]
        }
      ]
    },
    {
      "cell_type": "code",
      "source": [
        "#content filtering\n",
        "import pandas as pd\n",
        "import numpy as np\n",
        "\n",
        "# File paths\n",
        "movie_genres_path = \"DAS_Ass2/movie_genres.csv\"\n",
        "user_reviews_path = \"DAS_Ass2/user_reviews.csv\"\n",
        "\n",
        "### STEP 1: Load Data\n",
        "# Load movie genre data (X)\n",
        "movie_genres_df = pd.read_csv(movie_genres_path)\n",
        "\n",
        "# Load user review data (Y)\n",
        "user_reviews_df = pd.read_csv(user_reviews_path)\n",
        "\n",
        "### STEP 2: Data Cleaning\n",
        "# Remove non-numeric columns\n",
        "X = movie_genres_df.iloc[:, 2:].to_numpy()  # Drop movie index and title, keep genre features\n",
        "Y = user_reviews_df.iloc[:, 2:].to_numpy()  # Drop user index and name, keep ratings\n",
        "\n",
        "### STEP 3: Replace Missing Ratings (0s with NaN for clarity)\n",
        "Y = Y.astype(np.float64)  # Change the data type of Y to float\n",
        "Y[Y == 0] = np.nan  # This makes it easier to handle missing data\n",
        "\n",
        "### STEP 4: Display Matrix Shapes\n",
        "print(f\"X Shape (Movies × Features): {X.shape}\")\n",
        "print(f\"Y Shape (Users × Movies): {Y.shape}\")\n",
        "\n",
        "### Optional: Display a small sample of the cleaned matrices\n",
        "print(\"Sample X (Movie Features):\")\n",
        "print(X[:5, :])  # First 5 movies, all features\n",
        "\n",
        "print(\"Sample Y (User Ratings):\")\n",
        "print(Y[:5, :5])  # First 5 users, first 5 movies\n",
        "\n",
        "# Store user preference vectors\n",
        "Theta = np.zeros((len(Y), X.shape[1]))\n",
        "print(f\"Theta Shape (Users × Features): {Theta.shape}\")"
      ],
      "metadata": {
        "colab": {
          "base_uri": "https://localhost:8080/"
        },
        "id": "BArDP82Ap17w",
        "outputId": "cd9fa9e4-f03d-4f4a-ef5a-b485597d9d87"
      },
      "execution_count": 3,
      "outputs": [
        {
          "output_type": "stream",
          "name": "stdout",
          "text": [
            "X Shape (Movies × Features): (2000, 25)\n",
            "Y Shape (Users × Movies): (600, 2000)\n",
            "Sample X (Movie Features):\n",
            "[[1 0 0 0 0 1 0 1 0 0 0 0 0 0 0 1 0 0 0 0 0 0 1 0 0]\n",
            " [0 1 1 0 1 0 0 0 1 1 0 0 0 0 0 0 0 0 0 0 0 0 0 0 0]\n",
            " [1 1 0 0 0 0 0 0 1 0 0 0 0 0 0 1 0 0 0 1 0 0 0 0 0]\n",
            " [1 0 0 0 1 0 0 1 0 0 0 0 0 0 0 0 0 0 0 1 0 0 0 0 0]\n",
            " [0 1 0 0 0 0 0 1 0 0 0 0 0 0 0 0 0 0 0 0 0 0 1 1 0]]\n",
            "Sample Y (User Ratings):\n",
            "[[nan nan nan nan nan]\n",
            " [nan nan nan nan nan]\n",
            " [nan nan nan nan nan]\n",
            " [nan nan nan nan nan]\n",
            " [nan nan nan nan nan]]\n",
            "Theta Shape (Users × Features): (600, 25)\n"
          ]
        }
      ]
    },
    {
      "cell_type": "code",
      "source": [
        "from sklearn.linear_model import RidgeCV\n",
        "from sklearn.impute import SimpleImputer\n",
        "\n",
        "# Define lambda values to tune\n",
        "lambda_values = [0.01, 0.1, 1, 10, 100]\n",
        "\n",
        "# Iterate over the first 5 users\n",
        "for user_id in range(len(Y)):\n",
        "    # Get user ratings (Y row)\n",
        "    y_user = Y[user_id, :]  # Ratings given by this user (some are NaN)\n",
        "\n",
        "    # Find rated movies (i.e., non-NaN values)\n",
        "    rated_movies = ~np.isnan(y_user)\n",
        "\n",
        "    # If the user has rated at least one movie, train the model\n",
        "    if np.sum(rated_movies) > 0:\n",
        "        # Extract features (X) and corresponding ratings (y) for rated movies\n",
        "        X_train = X[rated_movies, :]\n",
        "        y_train = y_user[rated_movies]\n",
        "\n",
        "        # Train Ridge regression with cross-validation to find the best λ\n",
        "        ridge_model = RidgeCV(alphas=lambda_values, store_cv_values=True)\n",
        "        ridge_model.fit(X_train, y_train)\n",
        "\n",
        "        # Store learned user preferences (Θ)\n",
        "        Theta[user_id, :] = ridge_model.coef_\n",
        "\n"
      ],
      "metadata": {
        "id": "Dac99gWOj29l"
      },
      "execution_count": null,
      "outputs": []
    },
    {
      "cell_type": "code",
      "source": [
        "def recommended_movies(Y_pred,top_k=5,users_num=5):\n",
        " Y_pred[np.where(~np.isnan(Y[:len(Y), :]))] = -np.inf\n",
        " if users_num is None:\n",
        "     users_num = len(Y_pred)\n",
        " # Recommend top 5 movies for each of the first 5 users\n",
        " recommendations = np.argsort(-Y_pred, axis=1)[:, :top_k]  # Sort descending\n",
        "\n",
        " # Convert movie indices to actual movie titles\n",
        " recommended_movies = []\n",
        " for user_id in range(users_num):\n",
        "     recommended_movies.append(movie_genres_df.iloc[recommendations[user_id], 1].values)\n",
        "\n",
        " # Extract user names from the original dataset\n",
        " user_names = user_reviews_df.iloc[:users_num, 1].values\n",
        "\n",
        " # Display recommendations with user names\n",
        " for user_id in range(users_num):\n",
        "     print(f\"\\n🔹 **{user_names[user_id]} should watch:**\")\n",
        "     for movie in recommended_movies[user_id]:\n",
        "         print(f\"   🎬 {movie}\")\n",
        " return recommendations"
      ],
      "metadata": {
        "id": "8Hrc2JKWeFdl"
      },
      "execution_count": 16,
      "outputs": []
    },
    {
      "cell_type": "code",
      "source": [
        "# Predict ratings for all movies\n",
        "Y_pred = Theta @ X.T  # Matrix multiplication ΘX^T\n",
        "\n",
        "# Mask out already rated movies (to avoid recommending watched ones)\n",
        "Y_pred[np.where(~np.isnan(Y[:len(Y), :]))] = -np.inf\n",
        "\n",
        "recommendations=recommended_movies(Y_pred,)"
      ],
      "metadata": {
        "colab": {
          "base_uri": "https://localhost:8080/"
        },
        "id": "UAYBGcMbneDL",
        "outputId": "0233cdfa-3563-4653-e6f5-8f6cebd35e8d"
      },
      "execution_count": 6,
      "outputs": [
        {
          "output_type": "stream",
          "name": "stdout",
          "text": [
            "\n",
            "🔹 **Vincent should watch:**\n",
            "   🎬 Evolution\n",
            "   🎬 What the #$*! Do We (K)now!?\n",
            "   🎬 Dark City\n",
            "   🎬 The Returned\n",
            "   🎬 The Unborn\n",
            "\n",
            "🔹 **Edgar should watch:**\n",
            "   🎬 Alpha and Omega 4: The Legend of the Saw Toothed Cave\n",
            "   🎬 The Magic Sword: Quest for Camelot\n",
            "   🎬 Stargate: The Ark of Truth\n",
            "   🎬 9\n",
            "   🎬 Centurion\n",
            "\n",
            "🔹 **Addilyn should watch:**\n",
            "   🎬 Alvin and the Chipmunks: Chipwrecked\n",
            "   🎬 Alvin and the Chipmunks: The Road Chip\n",
            "   🎬 Alvin and the Chipmunks\n",
            "   🎬 Hannah Montana: The Movie\n",
            "   🎬 Spice World\n",
            "\n",
            "🔹 **Marlee should watch:**\n",
            "   🎬 Zodiac\n",
            "   🎬 Suspect Zero\n",
            "   🎬 Gone Girl\n",
            "   🎬 Narc\n",
            "   🎬 Regression\n",
            "\n",
            "🔹 **Javier should watch:**\n",
            "   🎬 Hannah Montana: The Movie\n",
            "   🎬 Sinbad: Legend of the Seven Seas\n",
            "   🎬 Lilo & Stitch\n",
            "   🎬 The Last Song\n",
            "   🎬 Mrs. Doubtfire\n"
          ]
        }
      ]
    },
    {
      "cell_type": "code",
      "source": [
        "#collaborative filtering\n",
        "\n",
        "from sklearn.decomposition import TruncatedSVD\n",
        "import numpy as np\n",
        "import pandas as pd\n",
        "\n",
        "# Replace missing values (NaNs) with the user’s average rating for better SVD performance\n",
        "Y_filled = np.copy(Y)\n",
        "for i in range(Y.shape[0]):  # Loop over users\n",
        "    user_mean = np.nanmean(Y[i, :])  # Compute mean rating for user i\n",
        "    Y_filled[i, np.isnan(Y[i, :])] = user_mean  # Replace NaN with mean rating\n",
        "\n",
        "# Create a mask for known ratings (not NaN)\n",
        "known_ratings = ~np.isnan(Y)\n",
        "\n",
        "# Create training set: Copy Y and hide 20% of ratings for validation\n",
        "Y_train = np.copy(Y_filled)\n",
        "num_hidden = int(0.2 * np.sum(known_ratings))  # 20% of known ratings\n",
        "\n",
        "# Randomly select indices to hide\n",
        "hidden_indices = np.argwhere(known_ratings)\n",
        "np.random.shuffle(hidden_indices)\n",
        "hidden_indices = hidden_indices[:num_hidden]\n",
        "true_ratings = Y[hidden_indices[:, 0], hidden_indices[:, 1]]\n",
        "\n",
        "# Hide ratings in Y_train for validation\n",
        "for i, j in hidden_indices:\n",
        "    Y_train[i, j] = np.nan\n"
      ],
      "metadata": {
        "id": "m5L1nvGJPXqG"
      },
      "execution_count": 14,
      "outputs": []
    },
    {
      "cell_type": "code",
      "source": [
        "# Apply Truncated SVD to factorize Y into two low-rank matrices\n",
        "svd = TruncatedSVD(n_components=10)\n",
        "Theta = svd.fit_transform(Y_filled)  # User preferences (Users × Latent Features)\n",
        "X = svd.components_.T  # Movie features (Movies × Latent Features)\n",
        "\n",
        "# Predict ratings for all users and movies\n",
        "Y_pred = Theta @ X.T  # Matrix multiplication to reconstruct predicted ratings\n",
        "\n",
        "# Mask out already rated movies (avoid recommending watched ones)\n",
        "predicted_ratings = Y_pred[hidden_indices[:, 0], hidden_indices[:, 1]]\n",
        "rmse = np.sqrt(mean_squared_error(true_ratings, predicted_ratings))\n",
        "accuracy=accuracy_score(true_ratings, np.round(predicted_ratings))\n",
        "\n",
        "print(f\"For content filtering with latent factor model: RMSE = {rmse:.4f},accuracy = {accuracy:.4f}\")\n",
        "\n",
        "recommendations=recommended_movies(Y_pred)"
      ],
      "metadata": {
        "colab": {
          "base_uri": "https://localhost:8080/"
        },
        "id": "Nqxlgy5m7ETi",
        "outputId": "39583b21-b552-426a-d944-9ab130cb3b60"
      },
      "execution_count": 17,
      "outputs": [
        {
          "output_type": "stream",
          "name": "stdout",
          "text": [
            "For content filtering with latent factor model: RMSE = 1.1001,accuracy = 0.3153\n",
            "\n",
            "🔹 **Vincent should watch:**\n",
            "   🎬 The Fourth Kind\n",
            "   🎬 World War Z\n",
            "   🎬 The Lost Skeleton of Cadavra\n",
            "   🎬 Space Battleship Yamato\n",
            "   🎬 Sugar Town\n",
            "\n",
            "🔹 **Edgar should watch:**\n",
            "   🎬 A Sound of Thunder\n",
            "   🎬 Bathory: Countess of Blood\n",
            "   🎬 The Unborn\n",
            "   🎬 Loser\n",
            "   🎬 Seeking a Friend for the End of the World\n",
            "\n",
            "🔹 **Addilyn should watch:**\n",
            "   🎬 Now You See Me 2\n",
            "   🎬 About Last Night\n",
            "   🎬 I Love You Phillip Morris\n",
            "   🎬 Torque\n",
            "   🎬 Heli\n",
            "\n",
            "🔹 **Marlee should watch:**\n",
            "   🎬 Speed\n",
            "   🎬 Suspect Zero\n",
            "   🎬 Torque\n",
            "   🎬 The Good Thief\n",
            "   🎬 World War Z\n",
            "\n",
            "🔹 **Javier should watch:**\n",
            "   🎬 Gigli\n",
            "   🎬 The Cabin in the Woods\n",
            "   🎬 500 Days of Summer\n",
            "   🎬 Mongol: The Rise of Genghis Khan\n",
            "   🎬 Zipper\n"
          ]
        }
      ]
    },
    {
      "cell_type": "code",
      "source": [
        "# Collaborative Filtering with Optimized k using SVD\n",
        "\n",
        "from sklearn.decomposition import TruncatedSVD\n",
        "from sklearn.metrics import mean_squared_error,accuracy_score\n",
        "import numpy as np\n",
        "import pandas as pd\n",
        "\n",
        "\n",
        "# Range of k values to test\n",
        "k_values = list(range(5, 100, 5))  # This will create a list from 1 to 100, stepping by 5\n",
        "\n",
        "\n",
        "# Store RMSE values for different k\n",
        "rmse_scores = []\n",
        "accuracy_scores=[]\n",
        "\n",
        "for k in k_values:\n",
        "    svd = TruncatedSVD(n_components=k)\n",
        "    Theta = svd.fit_transform(Y_filled)\n",
        "    X = svd.components_.T  # Movies × Features\n",
        "\n",
        "    # Predict missing ratings\n",
        "    Y_pred = Theta @ X.T\n",
        "\n",
        "    # Compute RMSE on the hidden ratings\n",
        "    true_ratings = Y[hidden_indices[:, 0], hidden_indices[:, 1]]\n",
        "    predicted_ratings = Y_pred[hidden_indices[:, 0], hidden_indices[:, 1]]\n",
        "\n",
        "    rmse = np.sqrt(mean_squared_error(true_ratings, predicted_ratings))\n",
        "    rmse_scores.append(rmse)\n",
        "\n",
        "    accuracy=accuracy_score(true_ratings, np.round(predicted_ratings))\n",
        "    accuracy_scores.append(accuracy)\n",
        "\n",
        "    print(f\"🔹 For k = {k}, RMSE = {rmse:.4f},accuracy = {accuracy:.4f}\")\n",
        "\n",
        "# Find the best k (minimum RMSE)\n",
        "best_k = k_values[np.argmin(rmse_scores)]\n",
        "print(f\"\\n✅ Best k: {best_k} with RMSE = {min(rmse_scores):.4f}\")\n",
        "\n",
        "### STEP 5: Train Final Model with Best k\n",
        "\n",
        "# Replace missing values (NaNs) with the user’s average rating for final training\n",
        "Y_filled_final = np.copy(Y)\n",
        "for i in range(Y.shape[0]):\n",
        "    user_mean = np.nanmean(Y[i, :])\n",
        "    Y_filled_final[i, np.isnan(Y[i, :])] = user_mean\n",
        "\n",
        "# Apply Truncated SVD with the best k\n",
        "svd_final = TruncatedSVD(n_components=best_k)\n",
        "Theta = svd_final.fit_transform(Y_filled_final)\n",
        "X = svd_final.components_.T  # Movie features (Movies × Latent Features)\n",
        "\n",
        "# Predict ratings for all users and movies\n",
        "Y_pred = Theta @ X.T  # Matrix multiplication to reconstruct predicted ratings\n",
        "\n",
        "recommendations=recommended_movies(Y_pred)"
      ],
      "metadata": {
        "id": "2nSwwCZHWJLy",
        "colab": {
          "base_uri": "https://localhost:8080/"
        },
        "outputId": "107844d3-2b90-4420-ff94-b042f09d56be"
      },
      "execution_count": 18,
      "outputs": [
        {
          "output_type": "stream",
          "name": "stdout",
          "text": [
            "🔹 For k = 5, RMSE = 1.1228,accuracy = 0.3098\n",
            "🔹 For k = 10, RMSE = 1.1002,accuracy = 0.3144\n",
            "🔹 For k = 15, RMSE = 1.0777,accuracy = 0.3219\n",
            "🔹 For k = 20, RMSE = 1.0561,accuracy = 0.3262\n",
            "🔹 For k = 25, RMSE = 1.0373,accuracy = 0.3307\n",
            "🔹 For k = 30, RMSE = 1.0172,accuracy = 0.3389\n",
            "🔹 For k = 35, RMSE = 0.9996,accuracy = 0.3464\n",
            "🔹 For k = 40, RMSE = 0.9795,accuracy = 0.3534\n",
            "🔹 For k = 45, RMSE = 0.9626,accuracy = 0.3622\n",
            "🔹 For k = 50, RMSE = 0.9451,accuracy = 0.3694\n",
            "🔹 For k = 55, RMSE = 0.9291,accuracy = 0.3743\n",
            "🔹 For k = 60, RMSE = 0.9118,accuracy = 0.3815\n",
            "🔹 For k = 65, RMSE = 0.8947,accuracy = 0.3903\n",
            "🔹 For k = 70, RMSE = 0.8799,accuracy = 0.4006\n",
            "🔹 For k = 75, RMSE = 0.8647,accuracy = 0.4064\n",
            "🔹 For k = 80, RMSE = 0.8504,accuracy = 0.4133\n",
            "🔹 For k = 85, RMSE = 0.8334,accuracy = 0.4218\n",
            "🔹 For k = 90, RMSE = 0.8188,accuracy = 0.4315\n",
            "🔹 For k = 95, RMSE = 0.8048,accuracy = 0.4363\n",
            "\n",
            "✅ Best k: 95 with RMSE = 0.8048\n",
            "\n",
            "🔹 **Vincent should watch:**\n",
            "   🎬 When the Game Stands Tall\n",
            "   🎬 Cheap Thrills\n",
            "   🎬 Splice\n",
            "   🎬 21 Grams\n",
            "   🎬 The Story of Us\n",
            "\n",
            "🔹 **Edgar should watch:**\n",
            "   🎬 Hoffa\n",
            "   🎬 The Adventures of Tintin\n",
            "   🎬 Pirates of the Caribbean: Dead Man's Chest\n",
            "   🎬 Out of Sight\n",
            "   🎬 Alvin and the Chipmunks: The Road Chip\n",
            "\n",
            "🔹 **Addilyn should watch:**\n",
            "   🎬 She Wore a Yellow Ribbon\n",
            "   🎬 The Order\n",
            "   🎬 Morning Glory\n",
            "   🎬 Isn't She Great\n",
            "   🎬 Maid in Manhattan\n",
            "\n",
            "🔹 **Marlee should watch:**\n",
            "   🎬 Doc Holliday's Revenge\n",
            "   🎬 Open Season\n",
            "   🎬 The Masked Saint\n",
            "   🎬 Swordfish\n",
            "   🎬 Molière\n",
            "\n",
            "🔹 **Javier should watch:**\n",
            "   🎬 The Chronicles of Narnia: The Lion, the Witch and the Wardrobe\n",
            "   🎬 Soul Survivors\n",
            "   🎬 Unbroken\n",
            "   🎬 Doubt\n",
            "   🎬 By the Sea\n"
          ]
        }
      ]
    }
  ]
}